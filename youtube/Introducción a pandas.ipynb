{
 "cells": [
  {
   "cell_type": "markdown",
   "id": "53fd52f9",
   "metadata": {},
   "source": [
    "# Estadistica en AI\n",
    "La mejor forma de describir las caracteristicas de un conjunto de datos\n",
    "## Tipos de variables\n",
    "- Discretas: o categoricos. Datos de un conjunto finito de opciones, no se pueden hacer operaciones matematicas.\n",
    "- Continuas: toman el valor de una recta numerica que tiende hacia el infinito. Deben ser cuantificables. Si se pueden operar"
   ]
  },
  {
   "cell_type": "code",
   "execution_count": 3,
   "id": "57a9bdeb",
   "metadata": {},
   "outputs": [
    {
     "name": "stdout",
     "output_type": "stream",
     "text": [
      "{'nombres': ['Andres', 'Felipe', 'Silva'], 'correlativo': [1, 152, 158], 'altura': [3.1, 5.2, 2.9]}\n"
     ]
    }
   ],
   "source": [
    "# Datos categoricos (identificar)\n",
    "nombres =  ['Andres', 'Felipe', 'Silva']\n",
    "correlativo = [1, 152, 158]\n",
    "\n",
    "# Datos continuos (operar)\n",
    "altura = [3.1, 5.2, 2.9]\n",
    "\n",
    "# Diccionario que almacena datos categoricos y continuos\n",
    "estructura = {\n",
    "    'nombres': nombres,\n",
    "    'correlativo': correlativo,\n",
    "    'altura': altura\n",
    "}\n",
    "print(estructura)"
   ]
  },
  {
   "cell_type": "markdown",
   "id": "17e50d42",
   "metadata": {},
   "source": [
    "# Reto extra\n",
    "Utilizar la variable 'estructura' imprimir el nombre, correlativo y altura del cuatro registro"
   ]
  },
  {
   "cell_type": "code",
   "execution_count": 9,
   "id": "885b4f19",
   "metadata": {
    "scrolled": false
   },
   "outputs": [
    {
     "name": "stdout",
     "output_type": "stream",
     "text": [
      "Silva 158 2.9\n"
     ]
    }
   ],
   "source": [
    "# Imprimir resultado\n",
    "print(f'{estructura[\"nombres\"][2]} {estructura[\"correlativo\"][2]} {estructura[\"altura\"][2]}')"
   ]
  },
  {
   "cell_type": "markdown",
   "id": "7ec34493",
   "metadata": {},
   "source": [
    "# Pandas\n",
    "Libreria de alto rendimiento para manipulacion de estructura de datos"
   ]
  },
  {
   "cell_type": "code",
   "execution_count": 1,
   "id": "0a542079",
   "metadata": {},
   "outputs": [],
   "source": [
    "# Manipulacion de datos\n",
    "import pandas as pd\n",
    "\n",
    "# Operaciones aritmericas\n",
    "import numpy as np\n",
    "\n",
    "# Creacion de graficos y visualizaciones\n",
    "import matplotlib.pyplot as plt"
   ]
  },
  {
   "cell_type": "markdown",
   "id": "6dc48dc8",
   "metadata": {},
   "source": [
    "En pandas los sets de datos se representan en estrcuturas llamadas **DataFrame**"
   ]
  },
  {
   "cell_type": "code",
   "execution_count": 4,
   "id": "6587ae54",
   "metadata": {
    "scrolled": true
   },
   "outputs": [
    {
     "data": {
      "text/html": [
       "<div>\n",
       "<style scoped>\n",
       "    .dataframe tbody tr th:only-of-type {\n",
       "        vertical-align: middle;\n",
       "    }\n",
       "\n",
       "    .dataframe tbody tr th {\n",
       "        vertical-align: top;\n",
       "    }\n",
       "\n",
       "    .dataframe thead th {\n",
       "        text-align: right;\n",
       "    }\n",
       "</style>\n",
       "<table border=\"1\" class=\"dataframe\">\n",
       "  <thead>\n",
       "    <tr style=\"text-align: right;\">\n",
       "      <th></th>\n",
       "      <th>nombres</th>\n",
       "      <th>correlativo</th>\n",
       "      <th>altura</th>\n",
       "    </tr>\n",
       "  </thead>\n",
       "  <tbody>\n",
       "    <tr>\n",
       "      <th>0</th>\n",
       "      <td>Andres</td>\n",
       "      <td>1</td>\n",
       "      <td>3.1</td>\n",
       "    </tr>\n",
       "    <tr>\n",
       "      <th>1</th>\n",
       "      <td>Felipe</td>\n",
       "      <td>152</td>\n",
       "      <td>5.2</td>\n",
       "    </tr>\n",
       "    <tr>\n",
       "      <th>2</th>\n",
       "      <td>Silva</td>\n",
       "      <td>158</td>\n",
       "      <td>2.9</td>\n",
       "    </tr>\n",
       "  </tbody>\n",
       "</table>\n",
       "</div>"
      ],
      "text/plain": [
       "  nombres  correlativo  altura\n",
       "0  Andres            1     3.1\n",
       "1  Felipe          152     5.2\n",
       "2   Silva          158     2.9"
      ]
     },
     "execution_count": 4,
     "metadata": {},
     "output_type": "execute_result"
    }
   ],
   "source": [
    "# Creacion de DataFrame (matriz en formato tabla)\n",
    "new_data = pd.DataFrame(estructura)\n",
    "\n",
    "# Mostrar el contenido\n",
    "new_data"
   ]
  },
  {
   "cell_type": "markdown",
   "id": "2cbbfa4a",
   "metadata": {},
   "source": [
    "En pandas las columnas se llaman **Series** y se accede como si fuera un diccionario, por ejemplo: nombre['serie']"
   ]
  },
  {
   "cell_type": "code",
   "execution_count": 5,
   "id": "bd3e6f68",
   "metadata": {},
   "outputs": [
    {
     "data": {
      "text/plain": [
       "0    Andres\n",
       "1    Felipe\n",
       "2     Silva\n",
       "Name: nombres, dtype: object"
      ]
     },
     "execution_count": 5,
     "metadata": {},
     "output_type": "execute_result"
    }
   ],
   "source": [
    "# Obtener datos de serie nombres\n",
    "new_data['nombres']"
   ]
  },
  {
   "cell_type": "markdown",
   "id": "ddbe8118",
   "metadata": {},
   "source": [
    "Cada registro de un _**DataFrame**_ se identifica con un indice, se accede utilizando la propiedad _**loc**_ "
   ]
  },
  {
   "cell_type": "code",
   "execution_count": 6,
   "id": "908640d9",
   "metadata": {},
   "outputs": [
    {
     "data": {
      "text/plain": [
       "nombres        Silva\n",
       "correlativo      158\n",
       "altura           2.9\n",
       "Name: 2, dtype: object"
      ]
     },
     "execution_count": 6,
     "metadata": {},
     "output_type": "execute_result"
    }
   ],
   "source": [
    "new_data.loc[2]"
   ]
  },
  {
   "cell_type": "markdown",
   "id": "abfc7b08",
   "metadata": {},
   "source": [
    "# Conceptos basicos de estadistica descriptiva\n",
    "* Distribucion\n",
    "* Media\n",
    "* Moda\n",
    "* Maximo y minimo\n",
    "* Desviascion estandar\n",
    "* Correlacion\n",
    "\n",
    "### Estadistica descriptiva con Pandas\n",
    "Pandas persmite realizar calculos sobre los datos almacdenados de manera rapida y eficiente"
   ]
  },
  {
   "cell_type": "code",
   "execution_count": 21,
   "id": "bd93b07c",
   "metadata": {},
   "outputs": [
    {
     "data": {
      "text/html": [
       "<div>\n",
       "<style scoped>\n",
       "    .dataframe tbody tr th:only-of-type {\n",
       "        vertical-align: middle;\n",
       "    }\n",
       "\n",
       "    .dataframe tbody tr th {\n",
       "        vertical-align: top;\n",
       "    }\n",
       "\n",
       "    .dataframe thead th {\n",
       "        text-align: right;\n",
       "    }\n",
       "</style>\n",
       "<table border=\"1\" class=\"dataframe\">\n",
       "  <thead>\n",
       "    <tr style=\"text-align: right;\">\n",
       "      <th></th>\n",
       "      <th>A</th>\n",
       "      <th>B</th>\n",
       "      <th>C</th>\n",
       "      <th>D</th>\n",
       "      <th>E</th>\n",
       "    </tr>\n",
       "  </thead>\n",
       "  <tbody>\n",
       "    <tr>\n",
       "      <th>0</th>\n",
       "      <td>84</td>\n",
       "      <td>81</td>\n",
       "      <td>62</td>\n",
       "      <td>52</td>\n",
       "      <td>95</td>\n",
       "    </tr>\n",
       "    <tr>\n",
       "      <th>1</th>\n",
       "      <td>99</td>\n",
       "      <td>32</td>\n",
       "      <td>12</td>\n",
       "      <td>77</td>\n",
       "      <td>70</td>\n",
       "    </tr>\n",
       "    <tr>\n",
       "      <th>2</th>\n",
       "      <td>55</td>\n",
       "      <td>71</td>\n",
       "      <td>107</td>\n",
       "      <td>6</td>\n",
       "      <td>18</td>\n",
       "    </tr>\n",
       "    <tr>\n",
       "      <th>3</th>\n",
       "      <td>98</td>\n",
       "      <td>19</td>\n",
       "      <td>33</td>\n",
       "      <td>97</td>\n",
       "      <td>83</td>\n",
       "    </tr>\n",
       "    <tr>\n",
       "      <th>4</th>\n",
       "      <td>24</td>\n",
       "      <td>42</td>\n",
       "      <td>58</td>\n",
       "      <td>91</td>\n",
       "      <td>56</td>\n",
       "    </tr>\n",
       "    <tr>\n",
       "      <th>5</th>\n",
       "      <td>109</td>\n",
       "      <td>115</td>\n",
       "      <td>13</td>\n",
       "      <td>93</td>\n",
       "      <td>101</td>\n",
       "    </tr>\n",
       "    <tr>\n",
       "      <th>6</th>\n",
       "      <td>110</td>\n",
       "      <td>98</td>\n",
       "      <td>82</td>\n",
       "      <td>14</td>\n",
       "      <td>9</td>\n",
       "    </tr>\n",
       "    <tr>\n",
       "      <th>7</th>\n",
       "      <td>21</td>\n",
       "      <td>116</td>\n",
       "      <td>16</td>\n",
       "      <td>31</td>\n",
       "      <td>103</td>\n",
       "    </tr>\n",
       "    <tr>\n",
       "      <th>8</th>\n",
       "      <td>39</td>\n",
       "      <td>62</td>\n",
       "      <td>77</td>\n",
       "      <td>97</td>\n",
       "      <td>16</td>\n",
       "    </tr>\n",
       "    <tr>\n",
       "      <th>9</th>\n",
       "      <td>38</td>\n",
       "      <td>57</td>\n",
       "      <td>69</td>\n",
       "      <td>1</td>\n",
       "      <td>81</td>\n",
       "    </tr>\n",
       "  </tbody>\n",
       "</table>\n",
       "</div>"
      ],
      "text/plain": [
       "     A    B    C   D    E\n",
       "0   84   81   62  52   95\n",
       "1   99   32   12  77   70\n",
       "2   55   71  107   6   18\n",
       "3   98   19   33  97   83\n",
       "4   24   42   58  91   56\n",
       "5  109  115   13  93  101\n",
       "6  110   98   82  14    9\n",
       "7   21  116   16  31  103\n",
       "8   39   62   77  97   16\n",
       "9   38   57   69   1   81"
      ]
     },
     "execution_count": 21,
     "metadata": {},
     "output_type": "execute_result"
    }
   ],
   "source": [
    "# Creacion de un conjunto de datos aleatorios\n",
    "\n",
    "numeros = np.random.randint(\n",
    "    0, 120, # Numero aleatorios entre 0, 120\n",
    "    size=(50, 5) # matriz 50x5\n",
    ")\n",
    "columns = ['A', 'B', 'C', 'D', 'E'] # Nombre columnas\n",
    "\n",
    "# Creacion de data frame\n",
    "prueba_df = pd.DataFrame(numeros, columns=columns)\n",
    "\n",
    "# Mostrar data frame en funcion de cantidad de filas\n",
    "prueba_df.head(10)"
   ]
  },
  {
   "cell_type": "markdown",
   "id": "ee59b011",
   "metadata": {},
   "source": [
    "# Graficos\n",
    "\n",
    "Visualizar los datos de forma grafica"
   ]
  },
  {
   "cell_type": "code",
   "execution_count": 22,
   "id": "be5e6709",
   "metadata": {
    "scrolled": false
   },
   "outputs": [
    {
     "data": {
      "image/png": "[encoded data removed]",
      "text/plain": [
       "<Figure size 640x480 with 1 Axes>"
      ]
     },
     "metadata": {},
     "output_type": "display_data"
    }
   ],
   "source": [
    "# Distribucion o candela (boxplot) \n",
    "# Promedio, max y min, cuartiles, dispersion de datos (uniformidad)\n",
    "prueba_df.boxplot()\n",
    "plt.show()"
   ]
  },
  {
   "cell_type": "code",
   "execution_count": 23,
   "id": "c3c91afe",
   "metadata": {},
   "outputs": [
    {
     "data": {
      "image/png": "[encoded data removed]",
      "text/plain": [
       "<Figure size 640x480 with 6 Axes>"
      ]
     },
     "metadata": {},
     "output_type": "display_data"
    }
   ],
   "source": [
    "# Histograma\n",
    "prueba_df.hist()\n",
    "plt.show()"
   ]
  },
  {
   "cell_type": "code",
   "execution_count": 37,
   "id": "097c02c6",
   "metadata": {},
   "outputs": [
    {
     "data": {
      "text/plain": [
       "A    63.22\n",
       "B    59.42\n",
       "C    68.52\n",
       "D    60.14\n",
       "E    63.62\n",
       "dtype: float64"
      ]
     },
     "execution_count": 37,
     "metadata": {},
     "output_type": "execute_result"
    }
   ],
   "source": [
    "# Media o promedio (mean)\n",
    "prueba_df.mean()"
   ]
  },
  {
   "cell_type": "code",
   "execution_count": 33,
   "id": "c66fe223",
   "metadata": {},
   "outputs": [
    {
     "data": {
      "text/plain": [
       "0    33\n",
       "1    71\n",
       "Name: B, dtype: int32"
      ]
     },
     "execution_count": 33,
     "metadata": {},
     "output_type": "execute_result"
    }
   ],
   "source": [
    "# Moda en funcion de la columna (mode)\n",
    "# Esta es la funcion para contar\n",
    "prueba_df['B'].mode()"
   ]
  },
  {
   "cell_type": "code",
   "execution_count": 34,
   "id": "cb3edbc7",
   "metadata": {},
   "outputs": [
    {
     "data": {
      "text/plain": [
       "A    36.091318\n",
       "B    35.945588\n",
       "C    35.879754\n",
       "D    36.594306\n",
       "E    33.551599\n",
       "dtype: float64"
      ]
     },
     "execution_count": 34,
     "metadata": {},
     "output_type": "execute_result"
    }
   ],
   "source": [
    "# Desviacion estandar (std) que tan variados estan los datos del promedio\n",
    "prueba_df.std()"
   ]
  },
  {
   "cell_type": "code",
   "execution_count": 35,
   "id": "5b0a9191",
   "metadata": {},
   "outputs": [
    {
     "data": {
      "text/html": [
       "<div>\n",
       "<style scoped>\n",
       "    .dataframe tbody tr th:only-of-type {\n",
       "        vertical-align: middle;\n",
       "    }\n",
       "\n",
       "    .dataframe tbody tr th {\n",
       "        vertical-align: top;\n",
       "    }\n",
       "\n",
       "    .dataframe thead th {\n",
       "        text-align: right;\n",
       "    }\n",
       "</style>\n",
       "<table border=\"1\" class=\"dataframe\">\n",
       "  <thead>\n",
       "    <tr style=\"text-align: right;\">\n",
       "      <th></th>\n",
       "      <th>A</th>\n",
       "      <th>B</th>\n",
       "      <th>C</th>\n",
       "      <th>D</th>\n",
       "      <th>E</th>\n",
       "    </tr>\n",
       "  </thead>\n",
       "  <tbody>\n",
       "    <tr>\n",
       "      <th>A</th>\n",
       "      <td>1.000000</td>\n",
       "      <td>0.009633</td>\n",
       "      <td>-0.162480</td>\n",
       "      <td>0.023602</td>\n",
       "      <td>-0.151661</td>\n",
       "    </tr>\n",
       "    <tr>\n",
       "      <th>B</th>\n",
       "      <td>0.009633</td>\n",
       "      <td>1.000000</td>\n",
       "      <td>0.127699</td>\n",
       "      <td>0.047678</td>\n",
       "      <td>0.088517</td>\n",
       "    </tr>\n",
       "    <tr>\n",
       "      <th>C</th>\n",
       "      <td>-0.162480</td>\n",
       "      <td>0.127699</td>\n",
       "      <td>1.000000</td>\n",
       "      <td>-0.054442</td>\n",
       "      <td>-0.406191</td>\n",
       "    </tr>\n",
       "    <tr>\n",
       "      <th>D</th>\n",
       "      <td>0.023602</td>\n",
       "      <td>0.047678</td>\n",
       "      <td>-0.054442</td>\n",
       "      <td>1.000000</td>\n",
       "      <td>0.001789</td>\n",
       "    </tr>\n",
       "    <tr>\n",
       "      <th>E</th>\n",
       "      <td>-0.151661</td>\n",
       "      <td>0.088517</td>\n",
       "      <td>-0.406191</td>\n",
       "      <td>0.001789</td>\n",
       "      <td>1.000000</td>\n",
       "    </tr>\n",
       "  </tbody>\n",
       "</table>\n",
       "</div>"
      ],
      "text/plain": [
       "          A         B         C         D         E\n",
       "A  1.000000  0.009633 -0.162480  0.023602 -0.151661\n",
       "B  0.009633  1.000000  0.127699  0.047678  0.088517\n",
       "C -0.162480  0.127699  1.000000 -0.054442 -0.406191\n",
       "D  0.023602  0.047678 -0.054442  1.000000  0.001789\n",
       "E -0.151661  0.088517 -0.406191  0.001789  1.000000"
      ]
     },
     "execution_count": 35,
     "metadata": {},
     "output_type": "execute_result"
    }
   ],
   "source": [
    "# Correlacion (corr) que tanto estan relacionadas las columnas\n",
    "prueba_df.corr()"
   ]
  }
 ],
 "metadata": {
  "kernelspec": {
   "display_name": "Python 3 (ipykernel)",
   "language": "python",
   "name": "python3"
  },
  "language_info": {
   "codemirror_mode": {
    "name": "ipython",
    "version": 3
   },
   "file_extension": ".py",
   "mimetype": "text/x-python",
   "name": "python",
   "nbconvert_exporter": "python",
   "pygments_lexer": "ipython3",
   "version": "3.11.4"
  }
 },
 "nbformat": 4,
 "nbformat_minor": 5
}
