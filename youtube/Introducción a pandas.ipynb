{
 "cells": [
  {
   "cell_type": "markdown",
   "id": "53fd52f9",
   "metadata": {},
   "source": [
    "# Estadistica en AI\n",
    "La mejor forma de describir las caracteristicas de un conjunto de datos\n",
    "## Tipos de variables\n",
    "- Discretas: o categoricos. Datos de un conjunto finito de opciones, no se pueden hacer operaciones matematicas.\n",
    "- Continuas: toman el valor de una recta numerica que tiende hacia el infinito. Deben ser cuantificables. Si se pueden operar"
   ]
  },
  {
   "cell_type": "code",
   "execution_count": 3,
   "id": "57a9bdeb",
   "metadata": {},
   "outputs": [
    {
     "name": "stdout",
     "output_type": "stream",
     "text": [
      "{'nombres': ['Andres', 'Felipe', 'Silva'], 'correlativo': [1, 152, 158], 'altura': [3.1, 5.2, 2.9]}\n"
     ]
    }
   ],
   "source": [
    "# Datos categoricos (identificar)\n",
    "nombres =  ['Andres', 'Felipe', 'Silva']\n",
    "correlativo = [1, 152, 158]\n",
    "\n",
    "# Datos continuos (operar)\n",
    "altura = [3.1, 5.2, 2.9]\n",
    "\n",
    "# Diccionario que almacena datos categoricos y continuos\n",
    "estructura = {\n",
    "    'nombres': nombres,\n",
    "    'correlativo': correlativo,\n",
    "    'altura': altura\n",
    "}\n",
    "print(estructura)"
   ]
  },
  {
   "cell_type": "markdown",
   "id": "17e50d42",
   "metadata": {},
   "source": [
    "# Reto extra\n",
    "Utilizar la variable 'estructura' imprimir el nombre, correlativo y altura del cuatro registro"
   ]
  },
  {
   "cell_type": "code",
   "execution_count": 9,
   "id": "885b4f19",
   "metadata": {
    "scrolled": false
   },
   "outputs": [
    {
     "name": "stdout",
     "output_type": "stream",
     "text": [
      "Silva 158 2.9\n"
     ]
    }
   ],
   "source": [
    "# Imprimir resultado\n",
    "print(f'{estructura[\"nombres\"][2]} {estructura[\"correlativo\"][2]} {estructura[\"altura\"][2]}')"
   ]
  },
  {
   "cell_type": "markdown",
   "id": "7ec34493",
   "metadata": {},
   "source": [
    "# Pandas\n",
    "Libreria de alto rendimiento para manipulacion de estructura de datos"
   ]
  },
  {
   "cell_type": "code",
   "execution_count": 11,
   "id": "0a542079",
   "metadata": {},
   "outputs": [],
   "source": [
    "# Manipulacion de datos\n",
    "import pandas as pd\n",
    "\n",
    "# Operaciones aritmericas\n",
    "import numpy as np\n",
    "\n",
    "# Creacion de graficos y visualizaciones\n",
    "import matplotlib.pyplot as plt"
   ]
  },
  {
   "cell_type": "markdown",
   "id": "6dc48dc8",
   "metadata": {},
   "source": [
    "En pandas los sets de datos se representan en estrcuturas llamadas **DataFrame**"
   ]
  },
  {
   "cell_type": "code",
   "execution_count": 14,
   "id": "6587ae54",
   "metadata": {
    "scrolled": true
   },
   "outputs": [
    {
     "data": {
      "text/html": [
       "<div>\n",
       "<style scoped>\n",
       "    .dataframe tbody tr th:only-of-type {\n",
       "        vertical-align: middle;\n",
       "    }\n",
       "\n",
       "    .dataframe tbody tr th {\n",
       "        vertical-align: top;\n",
       "    }\n",
       "\n",
       "    .dataframe thead th {\n",
       "        text-align: right;\n",
       "    }\n",
       "</style>\n",
       "<table border=\"1\" class=\"dataframe\">\n",
       "  <thead>\n",
       "    <tr style=\"text-align: right;\">\n",
       "      <th></th>\n",
       "      <th>nombres</th>\n",
       "      <th>correlativo</th>\n",
       "      <th>altura</th>\n",
       "    </tr>\n",
       "  </thead>\n",
       "  <tbody>\n",
       "    <tr>\n",
       "      <th>0</th>\n",
       "      <td>Andres</td>\n",
       "      <td>1</td>\n",
       "      <td>3.1</td>\n",
       "    </tr>\n",
       "    <tr>\n",
       "      <th>1</th>\n",
       "      <td>Felipe</td>\n",
       "      <td>152</td>\n",
       "      <td>5.2</td>\n",
       "    </tr>\n",
       "    <tr>\n",
       "      <th>2</th>\n",
       "      <td>Silva</td>\n",
       "      <td>158</td>\n",
       "      <td>2.9</td>\n",
       "    </tr>\n",
       "  </tbody>\n",
       "</table>\n",
       "</div>"
      ],
      "text/plain": [
       "  nombres  correlativo  altura\n",
       "0  Andres            1     3.1\n",
       "1  Felipe          152     5.2\n",
       "2   Silva          158     2.9"
      ]
     },
     "execution_count": 14,
     "metadata": {},
     "output_type": "execute_result"
    }
   ],
   "source": [
    "# Creacion de DataFrame (matriz en formato tabla)\n",
    "new_data = pd.DataFrame(estructura)\n",
    "\n",
    "# Mostrar el contenido\n",
    "new_data"
   ]
  },
  {
   "cell_type": "markdown",
   "id": "2cbbfa4a",
   "metadata": {},
   "source": [
    "En pandas las columnas se llaman **Series** y se accede como si fuera un diccionario, por ejemplo: nombre['serie']"
   ]
  },
  {
   "cell_type": "code",
   "execution_count": 15,
   "id": "bd3e6f68",
   "metadata": {},
   "outputs": [
    {
     "data": {
      "text/plain": [
       "0    Andres\n",
       "1    Felipe\n",
       "2     Silva\n",
       "Name: nombres, dtype: object"
      ]
     },
     "execution_count": 15,
     "metadata": {},
     "output_type": "execute_result"
    }
   ],
   "source": [
    "# Obtener datos de serie nombres\n",
    "new_data['nombres']"
   ]
  },
  {
   "cell_type": "markdown",
   "id": "ddbe8118",
   "metadata": {},
   "source": [
    "Cada registro de un _**DataFrame**_ se identifica con un indice, se accede utilizando la propiedad _**loc**_ "
   ]
  },
  {
   "cell_type": "code",
   "execution_count": 16,
   "id": "908640d9",
   "metadata": {},
   "outputs": [
    {
     "data": {
      "text/plain": [
       "nombres        Silva\n",
       "correlativo      158\n",
       "altura           2.9\n",
       "Name: 2, dtype: object"
      ]
     },
     "execution_count": 16,
     "metadata": {},
     "output_type": "execute_result"
    }
   ],
   "source": [
    "new_data.loc[2]"
   ]
  }
 ],
 "metadata": {
  "kernelspec": {
   "display_name": "Python 3 (ipykernel)",
   "language": "python",
   "name": "python3"
  },
  "language_info": {
   "codemirror_mode": {
    "name": "ipython",
    "version": 3
   },
   "file_extension": ".py",
   "mimetype": "text/x-python",
   "name": "python",
   "nbconvert_exporter": "python",
   "pygments_lexer": "ipython3",
   "version": "3.11.4"
  }
 },
 "nbformat": 4,
 "nbformat_minor": 5
}
