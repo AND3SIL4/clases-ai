{
 "cells": [
  {
   "cell_type": "markdown",
   "id": "0c2a0a01",
   "metadata": {},
   "source": [
    "# Manejo de datos con python\n",
    "- Estructuras simples de datos\n",
    "    - Array --> [Estructura organizada de datos] \n",
    "    - Map --> {key: value}"
   ]
  },
  {
   "cell_type": "code",
   "execution_count": 9,
   "id": "363da6cd",
   "metadata": {},
   "outputs": [
    {
     "name": "stdout",
     "output_type": "stream",
     "text": [
      "['Panda', 'Perro', 'Caballo', 'Conejo']\n"
     ]
    }
   ],
   "source": [
    "# Ejemplo de Array\n",
    "\n",
    "# Estuctura de datos tipo array\n",
    "my_list = ['Panda', 'Perro', 'Caballo', 'Conejo']\n",
    "\n",
    "# Mostrar datos de la lista\n",
    "print(my_list)"
   ]
  },
  {
   "cell_type": "code",
   "execution_count": 10,
   "id": "c80ce1bd",
   "metadata": {},
   "outputs": [
    {
     "name": "stdout",
     "output_type": "stream",
     "text": [
      "Perro\n"
     ]
    }
   ],
   "source": [
    "# Mostrar datos en funcion a la posicion\n",
    "print(my_list[1])"
   ]
  },
  {
   "cell_type": "code",
   "execution_count": 11,
   "id": "5ccbc52f",
   "metadata": {},
   "outputs": [
    {
     "name": "stdout",
     "output_type": "stream",
     "text": [
      "{'edad': 19, 'nombre': 'Andres', 'altura': 1.81}\n"
     ]
    }
   ],
   "source": [
    "# Ejemplo de Map\n",
    "\n",
    "# Estructura de datos tipo map\n",
    "my_map = {\n",
    "    'edad': 19,\n",
    "    'nombre': 'Andres',\n",
    "    'altura': 1.81\n",
    "}\n",
    "\n",
    "# Mostrar datos\n",
    "print(my_map)"
   ]
  },
  {
   "cell_type": "code",
   "execution_count": 13,
   "id": "f54f1976",
   "metadata": {
    "scrolled": true
   },
   "outputs": [
    {
     "name": "stdout",
     "output_type": "stream",
     "text": [
      "Andres\n",
      "19\n"
     ]
    }
   ],
   "source": [
    "# Mostrar datos en funcion a la llave (KEY)\n",
    "print(my_map['nombre'])\n",
    "print(my_map['edad'])\n"
   ]
  },
  {
   "cell_type": "code",
   "execution_count": 14,
   "id": "1f230fed",
   "metadata": {},
   "outputs": [
    {
     "name": "stdout",
     "output_type": "stream",
     "text": [
      "{'nombres': ['Andres', 'Felipe', 'Silva'], 'tecnologias': ['Python', 'React', 'R']}\n"
     ]
    }
   ],
   "source": [
    "# Estructura de datos combinadas\n",
    "\n",
    "# Diccionario de listas\n",
    "my_comb = {\n",
    "    'nombres': ['Andres', 'Felipe', 'Silva'],\n",
    "    'tecnologias': ['Python', 'React', 'R']\n",
    "}\n",
    "\n",
    "# Mostrar datos\n",
    "print(my_comb)\n"
   ]
  },
  {
   "cell_type": "code",
   "execution_count": 19,
   "id": "243a95ce",
   "metadata": {},
   "outputs": [
    {
     "name": "stdout",
     "output_type": "stream",
     "text": [
      "['Andres', 'Felipe', 'Silva']\n",
      "Silva\n"
     ]
    }
   ],
   "source": [
    "# Mostrar datos en funcion de key\n",
    "print(my_comb['nombres'])\n",
    "\n",
    "# Mostrar datos en funcion de key e indice\n",
    "print(my_comb['nombres'][-1])"
   ]
  },
  {
   "cell_type": "code",
   "execution_count": 20,
   "id": "31ebd986",
   "metadata": {},
   "outputs": [
    {
     "name": "stdout",
     "output_type": "stream",
     "text": [
      "[{'nombre': 'Andres', 'edad': 21}, {'nombre': 'Felipe', 'edad': 21}, {'nombre': 'Otro', 'edad': 22}]\n"
     ]
    }
   ],
   "source": [
    "# Estructura de datos combinadas\n",
    "\n",
    "# Lista de diccionario\n",
    "other_comb = [\n",
    "    {\n",
    "        'nombre': 'Andres',\n",
    "        'edad': 21\n",
    "    },\n",
    "    {\n",
    "        'nombre': 'Felipe',\n",
    "        'edad': 21,\n",
    "    },\n",
    "    {\n",
    "        'nombre': 'Otro',\n",
    "        'edad': 22\n",
    "    }\n",
    "]\n",
    "\n",
    "# Mostrar datos\n",
    "print(other_comb)"
   ]
  },
  {
   "cell_type": "code",
   "execution_count": 22,
   "id": "a4a36ceb",
   "metadata": {},
   "outputs": [
    {
     "name": "stdout",
     "output_type": "stream",
     "text": [
      "{'nombre': 'Andres', 'edad': 21}\n",
      "Andres\n"
     ]
    }
   ],
   "source": [
    "# Mostrar datos en funcion de indice\n",
    "print(other_comb[0])\n",
    "\n",
    "# Mostrar datos en funcion de indice y key\n",
    "print(other_comb[0]['nombre'])"
   ]
  },
  {
   "cell_type": "markdown",
   "id": "c74e29ee",
   "metadata": {},
   "source": [
    "# Reto 1\n",
    "Crear una **_lista de listas_**, que contenga 3 registros de 3 registros cada uno, imprimir el segundo valor del segundo registro"
   ]
  },
  {
   "cell_type": "code",
   "execution_count": 23,
   "id": "3fa9374d",
   "metadata": {},
   "outputs": [
    {
     "name": "stdout",
     "output_type": "stream",
     "text": [
      "Python\n"
     ]
    }
   ],
   "source": [
    "# Creacion de estructura de datos tipo array\n",
    "\n",
    "array = [\n",
    "    ['Andres', 'Felipe', 'Silva'],\n",
    "    ['JavaScript', 'Python', 'Dart'],\n",
    "    ['React', 'Django', 'Flutter']\n",
    "]\n",
    "\n",
    "# Mostrar datos en funcion de los indices\n",
    "print(array[1][1])"
   ]
  },
  {
   "cell_type": "markdown",
   "id": "fdc62c00",
   "metadata": {},
   "source": [
    "# Reto 2\n",
    "Crea una _**lista de diccionarios**_ con tres diccionarios, donde cada diccionario registre los valores para **'curso'**, **'inscritos'**, **'aprobados'**\n",
    "\n",
    "Luego imprimir:\n",
    "- La cantidad de inscritos\n",
    "- La cantidad de aprobados en el ultimo registro"
   ]
  },
  {
   "cell_type": "code",
   "execution_count": 39,
   "id": "c0f7fded",
   "metadata": {},
   "outputs": [
    {
     "name": "stdout",
     "output_type": "stream",
     "text": [
      "Cantidad de inscritos: 90\n",
      "Cantidad de aprobados: 80\n"
     ]
    }
   ],
   "source": [
    "# Creacion de estructura de datos (array de maps)\n",
    "list_dic = [\n",
    "    {\n",
    "        'curso': 1,\n",
    "        'inscritos': 42,\n",
    "        'aprobados': 40,\n",
    "    },\n",
    "    {\n",
    "        'curso': 2,\n",
    "        'inscritos': 50,\n",
    "        'aprobados': 30,\n",
    "    },\n",
    "    {\n",
    "        'curso': 3,\n",
    "        'inscritos': 90,\n",
    "        'aprobados': 80,\n",
    "    }\n",
    "]\n",
    "print(f'Cantidad de inscritos: {list_dic[2][\"inscritos\"]}')\n",
    "print(f'Cantidad de aprobados: {list_dic[-1][\"aprobados\"]}')"
   ]
  }
 ],
 "metadata": {
  "kernelspec": {
   "display_name": "Python 3 (ipykernel)",
   "language": "python",
   "name": "python3"
  },
  "language_info": {
   "codemirror_mode": {
    "name": "ipython",
    "version": 3
   },
   "file_extension": ".py",
   "mimetype": "text/x-python",
   "name": "python",
   "nbconvert_exporter": "python",
   "pygments_lexer": "ipython3",
   "version": "3.11.4"
  }
 },
 "nbformat": 4,
 "nbformat_minor": 5
}
